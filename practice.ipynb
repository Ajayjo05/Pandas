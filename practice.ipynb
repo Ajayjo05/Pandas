{
 "cells": [
  {
   "cell_type": "code",
   "execution_count": 4,
   "id": "fe871a47",
   "metadata": {},
   "outputs": [
    {
     "name": "stdout",
     "output_type": "stream",
     "text": [
      "[0, 4, 16, 36, 64]\n"
     ]
    }
   ],
   "source": [
    "# list comprehension for squaring elements of a list if the numbers are even\n",
    "y=[x**2 for x in range(0,10) if x%2==0]\n",
    "print(y)"
   ]
  },
  {
   "cell_type": "code",
   "execution_count": 3,
   "id": "25ba930d",
   "metadata": {},
   "outputs": [
    {
     "name": "stdout",
     "output_type": "stream",
     "text": [
      "[1, 4, 9, 16]\n"
     ]
    }
   ],
   "source": [
    "y=list(map(lambda x:x**2, [1,2,3,4]))\n",
    "print(y)"
   ]
  },
  {
   "cell_type": "code",
   "execution_count": 2,
   "id": "6f26f5a6",
   "metadata": {},
   "outputs": [
    {
     "name": "stdout",
     "output_type": "stream",
     "text": [
      "have\n",
      "to\n",
      "everything\n",
      "4\n"
     ]
    }
   ],
   "source": [
    "st=\"i have to learn everything\"\n",
    "s=st.split()\n",
    "for word in s:\n",
    "    if len(word)%2==0:\n",
    "        print(word)\n",
    "print(st.count(\"e\"))\n",
    "    "
   ]
  },
  {
   "cell_type": "code",
   "execution_count": 8,
   "id": "01b7340f",
   "metadata": {},
   "outputs": [
    {
     "name": "stdout",
     "output_type": "stream",
     "text": [
      "[0, 'odd', 2, 'odd', 4, 'odd', 6, 'odd', 8, 'odd', 10]\n"
     ]
    }
   ],
   "source": [
    "y=[x if x%2==0 else \"odd\" for x in range(11)]\n",
    "print(y)"
   ]
  },
  {
   "cell_type": "code",
   "execution_count": 12,
   "id": "fee51263",
   "metadata": {},
   "outputs": [
    {
     "name": "stdout",
     "output_type": "stream",
     "text": [
      "0\n",
      "1\n",
      "1\n",
      "2\n",
      "3\n",
      "5\n"
     ]
    }
   ],
   "source": [
    "def fib(n):\n",
    "    a=0\n",
    "    b=1\n",
    "    if n==1:\n",
    "        print(a)\n",
    "    else:\n",
    "        print(a)\n",
    "        print(b)\n",
    "        for i in range(2,n):\n",
    "            c=a+b\n",
    "            a=b\n",
    "            b=c\n",
    "            print(c)\n",
    "fib(6)"
   ]
  },
  {
   "cell_type": "code",
   "execution_count": 16,
   "id": "b9dd7fdf",
   "metadata": {},
   "outputs": [
    {
     "name": "stdout",
     "output_type": "stream",
     "text": [
      "Enter the lower limit1\n",
      "Enter the upper limit11\n",
      "2\n",
      "3\n",
      "5\n",
      "7\n",
      "11\n"
     ]
    }
   ],
   "source": [
    "l=int(input(\"Enter the lower limit\"))\n",
    "u=int(input(\"Enter the upper limit\"))\n",
    "for num in range(l,u+1):\n",
    "    if num>1:\n",
    "        for i in range(2,num):\n",
    "            if num%i==0:\n",
    "                pass\n",
    "                break\n",
    "        else:\n",
    "            print(num)"
   ]
  },
  {
   "cell_type": "code",
   "execution_count": 19,
   "id": "a7ae7040",
   "metadata": {},
   "outputs": [],
   "source": [
    "def prime(n):\n",
    "    if n>1:\n",
    "        for i in range(2,n):\n",
    "            if n%i==0:\n",
    "                pass\n",
    "                break\n",
    "        else:\n",
    "            print(f\"Number {n} is prime\")\n",
    "prime(4)"
   ]
  },
  {
   "cell_type": "code",
   "execution_count": 21,
   "id": "20459cdb",
   "metadata": {},
   "outputs": [
    {
     "name": "stdout",
     "output_type": "stream",
     "text": [
      "Enter the number till you want11\n",
      "[0, 1, 2, 3, 4, 5, 6, 7, 8, 9, 10]\n"
     ]
    }
   ],
   "source": [
    "a=[]\n",
    "n=int(input(\"Enter the number till you want\"))\n",
    "for i in range(n):\n",
    "    a.append(i)\n",
    "print(a)"
   ]
  },
  {
   "cell_type": "code",
   "execution_count": 24,
   "id": "ac438078",
   "metadata": {},
   "outputs": [
    {
     "name": "stdout",
     "output_type": "stream",
     "text": [
      "1 2 3\n",
      "[1, 2, 3]\n"
     ]
    }
   ],
   "source": [
    "n=list(map(int,input().split()))\n",
    "print(n)"
   ]
  },
  {
   "cell_type": "code",
   "execution_count": 9,
   "id": "a4ffcff4",
   "metadata": {},
   "outputs": [
    {
     "name": "stdout",
     "output_type": "stream",
     "text": [
      "Enter the Hours worked : 16\n"
     ]
    },
    {
     "data": {
      "text/plain": [
       "188"
      ]
     },
     "execution_count": 9,
     "metadata": {},
     "output_type": "execute_result"
    }
   ],
   "source": [
    "def work(hr):\n",
    "    wh=0\n",
    "    ta=0\n",
    "    total=0\n",
    "    if hr>=0 and hr<=8:\n",
    "        ta=hr*10\n",
    "        return ta\n",
    "    elif hr>8 and hr<=12 or hr>12:\n",
    "        wh=wh+(hr-8)\n",
    "        if wh<=4:\n",
    "            total=total+wh*12\n",
    "        else:\n",
    "            s=wh-4\n",
    "            total=total+12*4+(15*s)\n",
    "        ta=(8*10)+total\n",
    "        return ta\n",
    "\n",
    "\n",
    "hr=int(input(\"Enter the Hours worked : \"))\n",
    "work(hr)"
   ]
  },
  {
   "cell_type": "code",
   "execution_count": 69,
   "id": "f3c1fa76",
   "metadata": {},
   "outputs": [
    {
     "name": "stdout",
     "output_type": "stream",
     "text": [
      "[24, 12, 8, 6]\n"
     ]
    }
   ],
   "source": [
    "l=[1,2,3,4]\n",
    "n=[]\n",
    "for i in range(len(l)):\n",
    "    a=1\n",
    "    for val in l:\n",
    "        if val!=l[i]:\n",
    "            a=val*a\n",
    "    n.append(a)\n",
    "print(n)"
   ]
  },
  {
   "cell_type": "code",
   "execution_count": 33,
   "id": "e3bf633c",
   "metadata": {},
   "outputs": [
    {
     "name": "stdout",
     "output_type": "stream",
     "text": [
      "[{'a': 5}, {'a': 4}, {'a': 8}]\n",
      "[{'a': 8}, {'a': 5}, {'a': 4}]\n",
      "[{'a': 4}, {'a': 5}, {'a': 8}]\n"
     ]
    }
   ],
   "source": [
    "y=[{'a':5},{'a':4},{'a':8}]\n",
    "print(y)\n",
    "\n",
    "# to print list of dictionary in descending order\n",
    "print(sorted(y, key =lambda x:x['a'],reverse =True ))\n",
    "\n",
    "\n",
    "# to print list of dictionary in ascending order\n",
    "print(sorted(y, key = lambda x:x['a']))\n"
   ]
  },
  {
   "cell_type": "code",
   "execution_count": 128,
   "id": "2891c36d",
   "metadata": {},
   "outputs": [
    {
     "name": "stdout",
     "output_type": "stream",
     "text": [
      "['a']\n",
      "['a']\n",
      "['a']\n"
     ]
    }
   ],
   "source": [
    "y=[{'a':5},{'a':4},{'a':8}]\n",
    "#n=[]\n",
    "for x in y:\n",
    "    #print(x.values())\n",
    "#     z=x.values()\n",
    "    \n",
    "#     print(sorted(z))\n",
    "    print(sorted(x))\n",
    "    \n",
    "    \n",
    "    \n",
    "    \n",
    "    #n.append(z)\n",
    "#print(sorted(n))"
   ]
  },
  {
   "cell_type": "code",
   "execution_count": 18,
   "id": "dd9e4e3c",
   "metadata": {},
   "outputs": [
    {
     "name": "stdout",
     "output_type": "stream",
     "text": [
      "{'a': [4, 5, 8]}\n"
     ]
    }
   ],
   "source": [
    "y=[{'a':5},{'a':4},{'a':8}]\n",
    "n=[]\n",
    "for i in y:\n",
    "    for k,v in i.items():\n",
    "        #n.append(k)\n",
    "        n.append(v)\n",
    "        z=sorted(n)\n",
    "        \n",
    "#for d in y:\n",
    "        d.update({'a':z})\n",
    "print(d)\n",
    "        \n",
    "\n",
    "    \n",
    "    \n",
    "    \n",
    "   "
   ]
  },
  {
   "cell_type": "code",
   "execution_count": 40,
   "id": "4cfb10b4",
   "metadata": {},
   "outputs": [
    {
     "name": "stdout",
     "output_type": "stream",
     "text": [
      "['1', '1', '1', '1', '1'] ['0', '0', '0', '0', '0']\n"
     ]
    }
   ],
   "source": [
    "#l=[1,0,1,0,0]\n",
    "n=list(map(lambda x:x.replace('0','1'),['1','0','0','1','1']))\n",
    "k=list(map(lambda x:x.replace('1','0'),['1','0','0','1','1']))\n",
    "\n",
    "print(n,k)"
   ]
  },
  {
   "cell_type": "code",
   "execution_count": 45,
   "id": "392ba094",
   "metadata": {},
   "outputs": [
    {
     "name": "stdout",
     "output_type": "stream",
     "text": [
      "[0, 0, 0, 0, 0]\n"
     ]
    }
   ],
   "source": [
    "l=[1,0,1,0,0]\n",
    "ls=str(l)\n",
    "r=ls.replace('1','0')\n",
    "\n",
    "print(r)"
   ]
  },
  {
   "cell_type": "code",
   "execution_count": 46,
   "id": "b46798d8",
   "metadata": {},
   "outputs": [
    {
     "name": "stdout",
     "output_type": "stream",
     "text": [
      "[0, 1, 0, 1, 1]\n"
     ]
    }
   ],
   "source": [
    "l=[1,0,1,0,0] #for replacing 0 to 1 and 1 to 0 \n",
    "ls=[x^1 for x in l]\n",
    "print(ls)"
   ]
  },
  {
   "cell_type": "code",
   "execution_count": 47,
   "id": "bf40e81a",
   "metadata": {},
   "outputs": [
    {
     "name": "stdout",
     "output_type": "stream",
     "text": [
      "0\n",
      "1\n",
      "0\n",
      "1\n",
      "1\n"
     ]
    }
   ],
   "source": [
    "l=[1,0,1,0,0]\n",
    "for i in l:\n",
    "    print(i^1)"
   ]
  },
  {
   "cell_type": "code",
   "execution_count": 49,
   "id": "483b4d70",
   "metadata": {},
   "outputs": [
    {
     "name": "stdout",
     "output_type": "stream",
     "text": [
      "0\n"
     ]
    }
   ],
   "source": [
    "i=1\n",
    "print(i^1)"
   ]
  },
  {
   "cell_type": "code",
   "execution_count": 140,
   "id": "6953a2a5",
   "metadata": {},
   "outputs": [
    {
     "name": "stdout",
     "output_type": "stream",
     "text": [
      "[4, 6, 2, 8, 3, 7, 5]\n"
     ]
    }
   ],
   "source": [
    "l=[4,3,6,7,2,5,8]\n",
    "e=[]\n",
    "o=[]\n",
    "for i in range(len(l)):\n",
    "    if i%2==0:\n",
    "        e.append(l[i])\n",
    "    else:\n",
    "        o.append(l[i])\n",
    "e.extend(o)\n",
    "print(e)\n",
    "        "
   ]
  },
  {
   "cell_type": "code",
   "execution_count": null,
   "id": "24b833b4",
   "metadata": {},
   "outputs": [],
   "source": []
  },
  {
   "cell_type": "code",
   "execution_count": null,
   "id": "0a3e1824",
   "metadata": {},
   "outputs": [],
   "source": []
  },
  {
   "cell_type": "code",
   "execution_count": 191,
   "id": "9d43fa83",
   "metadata": {},
   "outputs": [
    {
     "data": {
      "text/plain": [
       "[2, 7, 4, 3, 6, 5, 8]"
      ]
     },
     "execution_count": 191,
     "metadata": {},
     "output_type": "execute_result"
    }
   ],
   "source": [
    "def ev():\n",
    "    l=[4,3,6,7,2,5,8]\n",
    "    e=[]\n",
    "    o=[]\n",
    "    for i in range(len(l)-1):\n",
    "        if i%2==0:\n",
    "            for j in range(i,3):\n",
    "                    if l[i]>l[j+2]:\n",
    "                        p=l[j+2]\n",
    "                        l[j+2]=l[i]\n",
    "                        l[i]=p \n",
    "                    else:\n",
    "                        pass                \n",
    "        else:\n",
    "            for k in range(i,3):\n",
    "                    if l[i]<l[k+2]:\n",
    "                        p=l[k+2]\n",
    "                        l[k+2]=l[i]\n",
    "                        l[i]=p\n",
    "                    else:\n",
    "                        pass\n",
    "                \n",
    "    return l        \n",
    "ev()"
   ]
  },
  {
   "cell_type": "code",
   "execution_count": null,
   "id": "47991dcd",
   "metadata": {},
   "outputs": [],
   "source": []
  },
  {
   "cell_type": "code",
   "execution_count": 199,
   "id": "aa111921",
   "metadata": {},
   "outputs": [
    {
     "name": "stdout",
     "output_type": "stream",
     "text": [
      "Old List---- [4, 3, 6, 7, 2, 5, 8, 1, 9, 10]\n",
      "updated List [2, 10, 4, 7, 6, 5, 8, 3, 9, 1]\n"
     ]
    }
   ],
   "source": [
    "#to position the elements at even position in ascending order and elemnts at odd pos in descending oreder\n",
    "\n",
    "def func(l):\n",
    "    e=[]\n",
    "    o=[]\n",
    "    for i in range(len(l)):\n",
    "        if i%2==0:\n",
    "            e.append(l[i])\n",
    "        else:\n",
    "            o.append(l[i])\n",
    "\n",
    "    even=sorted(e)\n",
    "    odd=sorted(o,reverse=True)\n",
    "    i=0\n",
    "    for ev in range(len(l)):\n",
    "        if ev%2==0:\n",
    "            l[ev]=even[i]\n",
    "            i=i+1\n",
    "        else:\n",
    "            l[ev]=odd[i-1]\n",
    "    return l\n",
    "\n",
    "l=[4,3,6,7,2,5,8,1,9,10]\n",
    "print(\"Old List----\",l)\n",
    "ori=func(l)\n",
    "print(\"updated List\",ori)"
   ]
  },
  {
   "cell_type": "code",
   "execution_count": 35,
   "id": "7e4f1c6c",
   "metadata": {},
   "outputs": [
    {
     "name": "stdout",
     "output_type": "stream",
     "text": [
      "2\n",
      "1 2\n",
      "-1950498447580522560\n"
     ]
    }
   ],
   "source": [
    "if __name__ == '__main__':\n",
    "    n = int(input())\n",
    "    integer_list = map(int, input().split())\n",
    "    t=()\n",
    "    l=list(t)\n",
    "    for i in range(n):\n",
    "        l.append(i)\n",
    "    t=tuple(l)\n",
    "    print(hash(t))"
   ]
  },
  {
   "cell_type": "code",
   "execution_count": null,
   "id": "b0f35ac5",
   "metadata": {},
   "outputs": [],
   "source": []
  },
  {
   "cell_type": "code",
   "execution_count": 9,
   "id": "7e924018",
   "metadata": {},
   "outputs": [
    {
     "name": "stdout",
     "output_type": "stream",
     "text": [
      "Enter the value to find[1]\n",
      "special char not found [1]\n"
     ]
    }
   ],
   "source": [
    "li=[2,4,6,'al','bl','cl','?']\n",
    "ip=input(\"Enter the value to find\")\n",
    "if len(li) == 0:\n",
    "    print(\"List is empty\")\n",
    "else:\n",
    "    for i in li:\n",
    "        if ip.isalpha():\n",
    "            if ip in li:\n",
    "                print(\"String found\",ip)\n",
    "                break\n",
    "            else:\n",
    "                print(\"String not found\")\n",
    "                break\n",
    "        elif not ip.isnumeric() and not ip.isdigit():\n",
    "            if ip in li:\n",
    "                print(\"special character found\",ip)\n",
    "                break\n",
    "            else:   \n",
    "                print(\"special char not found\",ip)\n",
    "                break\n",
    "        if int(ip) in li:\n",
    "            print(\"found digit\",ip)\n",
    "            break\n",
    "        else:\n",
    "            print(\"Integer not found\")\n",
    "            break"
   ]
  },
  {
   "cell_type": "code",
   "execution_count": 6,
   "id": "772616bd",
   "metadata": {},
   "outputs": [
    {
     "data": {
      "text/plain": [
       "False"
      ]
     },
     "execution_count": 6,
     "metadata": {},
     "output_type": "execute_result"
    }
   ],
   "source": [
    "#str(2/3).isdigit()\n",
    "str(10.0).isdecimal()"
   ]
  },
  {
   "cell_type": "code",
   "execution_count": 29,
   "id": "fa606a7b",
   "metadata": {},
   "outputs": [
    {
     "name": "stdout",
     "output_type": "stream",
     "text": [
      "fraction.isnumeric()=True\n",
      "fraction.isdigit()=False\n"
     ]
    }
   ],
   "source": [
    "fraction = '⅔'\n",
    "print(f'{fraction.isnumeric()=}')\n",
    "print(f'{fraction.isdigit()=}')"
   ]
  },
  {
   "cell_type": "code",
   "execution_count": 12,
   "id": "fde4d26e",
   "metadata": {},
   "outputs": [
    {
     "name": "stdout",
     "output_type": "stream",
     "text": [
      "[0, 3, 2, 9, 4, 15, 6, 21, 8, 27]\n"
     ]
    }
   ],
   "source": [
    "y=[x if x%2==0 else x*3 for x in range(10)]\n",
    "print(y)"
   ]
  },
  {
   "cell_type": "code",
   "execution_count": null,
   "id": "ac8b1f8b",
   "metadata": {},
   "outputs": [],
   "source": []
  }
 ],
 "metadata": {
  "kernelspec": {
   "display_name": "Python 3 (ipykernel)",
   "language": "python",
   "name": "python3"
  },
  "language_info": {
   "codemirror_mode": {
    "name": "ipython",
    "version": 3
   },
   "file_extension": ".py",
   "mimetype": "text/x-python",
   "name": "python",
   "nbconvert_exporter": "python",
   "pygments_lexer": "ipython3",
   "version": "3.8.10"
  }
 },
 "nbformat": 4,
 "nbformat_minor": 5
}
